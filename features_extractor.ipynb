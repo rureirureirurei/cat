{
 "cells": [
  {
   "cell_type": "code",
   "execution_count": 16,
   "metadata": {},
   "outputs": [],
   "source": [
    "#Standart Python notebook imports\n",
    "\n",
    "import itertools\n",
    "import io\n",
    "import os\n",
    "\n",
    "import matplotlib.pyplot as plt\n",
    "import numpy as np\n",
    "import pandas as pd\n",
    "import scipy.optimize as sopt\n",
    "import scipy.stats as sstats\n",
    "import seaborn as sns\n",
    "import sklearn.ensemble\n",
    "import sklearn.tree\n",
    "from sklearn import datasets\n",
    "from tqdm.auto import tqdm\n",
    "from matplotlib import animation, pyplot, rc\n",
    "from sklearn.model_selection import train_test_split"
   ]
  },
  {
   "cell_type": "code",
   "execution_count": 20,
   "metadata": {},
   "outputs": [],
   "source": [
    "### Input and output types are onedim nparrays\n",
    "\n",
    "\n",
    "import string\n",
    "characters = string.printable\n",
    "\n",
    "def stats(x):\n",
    "    return np.array([x.min(), x.max(), x.mean(), x.std()])\n",
    "\n",
    "def to_str(seq):\n",
    "    return np.array(list(map(str, seq)))\n",
    "\n",
    "def length(seq):\n",
    "    res = list(map(len, seq))\n",
    "    return stats(np.array(res))\n",
    "\n",
    "# This function takes two arguments:\n",
    "#\n",
    "#   seq - sequence of elements being analized\n",
    "#   \n",
    "#   filter_func - function that takes a charater\n",
    "#     and returns either 1 or 0 \n",
    "#   \n",
    "#   for each element in seq filter_func is applied to \n",
    "#   each symbol and then a sum is divided by element's length\n",
    "#\n",
    "\n",
    "def filtered_character_percent(seq, filter_func):\n",
    "    res = list(map(lambda s: sum([filter_func(c) for c in s]) / len(s), seq))\n",
    "    return stats(np.array(res))\n",
    "\n",
    "def numeric_percent(seq):\n",
    "    res = filtered_character_percent(seq, lambda c: c.isnumeric())\n",
    "    return stats(np.array(res))\n",
    "\n",
    "def alphabetic_percent(seq):\n",
    "    res = filtered_character_percent(seq, lambda c: c.isalpha())\n",
    "    return stats(np.array(res))\n",
    "    \n",
    "#def characters_percent(seq):\n",
    "#    for c in characters:\n",
    "        \n",
    "    \n",
    "def features(seq):\n",
    "    detectors = [\n",
    "        length,\n",
    "        numeric_percent,\n",
    "        alphabetic_percent,\n",
    "    ]\n",
    "    \n",
    "    features = np.array([])\n",
    "    for detector in detectors:\n",
    "        features = np.append(detector(to_str(seq)), features)\n",
    "    return features\n",
    "    "
   ]
  },
  {
   "cell_type": "code",
   "execution_count": 21,
   "metadata": {},
   "outputs": [],
   "source": [
    "#helpers\n",
    "\n",
    "\n",
    "raw = pd.read_csv(\"data/wc_players_main.csv\")\n",
    "raw.fillna(\"\");\n",
    "\n",
    "data = np.vstack(raw.columns.map(lambda c: features(raw[c].to_numpy().T.reshape(-1))).to_numpy())\n",
    "labels =  np.array([s[:(s+\".\").find('.')] for s in raw.columns.to_numpy()]) \n",
    "\n",
    "data, np.array([s[:(s+\".\").find('.')] for s in labels])\n",
    "\n",
    "X_train, X_test, y_train, y_test = train_test_split(data, labels, test_size=0.2)"
   ]
  },
  {
   "cell_type": "code",
   "execution_count": 22,
   "metadata": {},
   "outputs": [
    {
     "data": {
      "text/plain": [
       "((22, 12), (22,), (80, 28))"
      ]
     },
     "execution_count": 22,
     "metadata": {},
     "output_type": "execute_result"
    }
   ],
   "source": [
    "X_train.shape, y_train.shape, raw.shape"
   ]
  },
  {
   "cell_type": "code",
   "execution_count": 20,
   "metadata": {},
   "outputs": [
    {
     "data": {
      "text/plain": [
       "(array([0.        , 0.        , 0.        , 0.        , 1.        ,\n",
       "        1.        , 1.        , 0.        , 2.        , 3.        ,\n",
       "        2.9875    , 0.11110243]),\n",
       " 'damage_per_minute')"
      ]
     },
     "execution_count": 20,
     "metadata": {},
     "output_type": "execute_result"
    }
   ],
   "source": [
    "X_train[0], y_train[0]"
   ]
  },
  {
   "cell_type": "code",
   "execution_count": 23,
   "metadata": {},
   "outputs": [
    {
     "data": {
      "text/plain": [
       "0.75"
      ]
     },
     "execution_count": 23,
     "metadata": {},
     "output_type": "execute_result"
    }
   ],
   "source": [
    "np.array(list(map(lambda x: x.isnumeric(), seq))).mean()"
   ]
  },
  {
   "cell_type": "code",
   "execution_count": 30,
   "metadata": {},
   "outputs": [
    {
     "data": {
      "text/plain": [
       "0.8"
      ]
     },
     "execution_count": 30,
     "metadata": {},
     "output_type": "execute_result"
    }
   ],
   "source": [
    "np.array(list(map(lambda x: x.count('.') <= 1 and x.replace('.','').isnumeric(), seq))).mean()"
   ]
  },
  {
   "cell_type": "code",
   "execution_count": 29,
   "metadata": {},
   "outputs": [],
   "source": [
    "seq = ['123', '123.4', '45555', 'pppp', '34.55555']"
   ]
  },
  {
   "cell_type": "code",
   "execution_count": null,
   "metadata": {},
   "outputs": [],
   "source": []
  }
 ],
 "metadata": {
  "kernelspec": {
   "display_name": "Python 3 (ipykernel)",
   "language": "python",
   "name": "python3"
  },
  "language_info": {
   "codemirror_mode": {
    "name": "ipython",
    "version": 3
   },
   "file_extension": ".py",
   "mimetype": "text/x-python",
   "name": "python",
   "nbconvert_exporter": "python",
   "pygments_lexer": "ipython3",
   "version": "3.10.8"
  }
 },
 "nbformat": 4,
 "nbformat_minor": 2
}
