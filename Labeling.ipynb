{
 "cells": [
  {
   "cell_type": "code",
   "execution_count": 4,
   "id": "8fa27c31",
   "metadata": {},
   "outputs": [],
   "source": [
    "### Standart Python notebook imports\n",
    "\n",
    "import itertools\n",
    "import io\n",
    "import os\n",
    "\n",
    "import matplotlib.pyplot as plt\n",
    "import numpy as np\n",
    "import pandas as pd\n",
    "import scipy.optimize as sopt\n",
    "import scipy.stats as sstats\n",
    "import seaborn as sns\n",
    "import sklearn.ensemble\n",
    "import sklearn.tree\n",
    "from sklearn import datasets\n",
    "from tqdm.auto import tqdm\n",
    "from matplotlib import animation, pyplot, rc\n",
    "from sklearn.model_selection import train_test_split"
   ]
  },
  {
   "cell_type": "code",
   "execution_count": 31,
   "id": "ecd16a7c",
   "metadata": {},
   "outputs": [],
   "source": [
    "def sources(path):\n",
    "    result = [i for i in os.listdir(path) if i.endswith(\".csv\")]\n",
    "    return result"
   ]
  },
  {
   "cell_type": "code",
   "execution_count": null,
   "id": "32663a90",
   "metadata": {},
   "outputs": [
    {
     "name": "stdout",
     "output_type": "stream",
     "text": [
      "Labeling: cr7.csv\n",
      "Column name: Season\n",
      "Head:\n",
      "0    02/03\n",
      "1    02/03\n",
      "2    02/03\n",
      "3    02/03\n",
      "4    02/03\n",
      "Name: Season, dtype: object\n",
      "date\n",
      "Column name: Competition\n",
      "Head:\n",
      "0               Liga Portugal\n",
      "1               Liga Portugal\n",
      "2               Liga Portugal\n",
      "3    Taca de Portugal Placard\n",
      "4    Taca de Portugal Placard\n",
      "Name: Competition, dtype: object\n",
      "undefined\n",
      "Column name: Matchday\n",
      "Head:\n",
      "0               6\n",
      "1               6\n",
      "2               8\n",
      "3    Fourth Round\n",
      "4     Fifth Round\n",
      "Name: Matchday, dtype: object\n",
      "numeric\n",
      "Column name: Date\n",
      "Head:\n",
      "0    10-07-02\n",
      "1    10-07-02\n",
      "2    10/26/02\n",
      "3    11/24/02\n",
      "4    12/18/02\n",
      "Name: Date, dtype: object\n",
      "date\n",
      "Column name: Venue\n",
      "Head:\n",
      "0    H\n",
      "1    H\n",
      "2    A\n",
      "3    H\n",
      "4    H\n",
      "Name: Venue, dtype: object\n"
     ]
    }
   ],
   "source": [
    "for source in sources('./data/'):\n",
    "    data = pd.read_csv('./data/' + source)\n",
    "    print(\"Labeling: \" + source)\n",
    "    labels = []\n",
    "    for column in data.columns:\n",
    "        print(\"Column name: \" + column)\n",
    "        print(\"Head:\")\n",
    "        print(data[column][:5])\n",
    "        \n",
    "        label = input()\n",
    "        labels.append(label)\n",
    "    print(\"Labels: \", labels)\n",
    "        \n",
    "    "
   ]
  },
  {
   "cell_type": "code",
   "execution_count": null,
   "id": "bcad7183",
   "metadata": {},
   "outputs": [],
   "source": []
  }
 ],
 "metadata": {
  "kernelspec": {
   "display_name": "Python 3 (ipykernel)",
   "language": "python",
   "name": "python3"
  },
  "language_info": {
   "codemirror_mode": {
    "name": "ipython",
    "version": 3
   },
   "file_extension": ".py",
   "mimetype": "text/x-python",
   "name": "python",
   "nbconvert_exporter": "python",
   "pygments_lexer": "ipython3",
   "version": "3.10.8"
  }
 },
 "nbformat": 4,
 "nbformat_minor": 5
}
