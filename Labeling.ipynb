{
 "cells": [
  {
   "cell_type": "code",
   "execution_count": 2,
   "id": "bffd4382",
   "metadata": {},
   "outputs": [],
   "source": [
    "### Standart Python notebook imports\n",
    "\n",
    "import itertools\n",
    "import io\n",
    "import os\n",
    "\n",
    "import matplotlib.pyplot as plt\n",
    "import numpy as np\n",
    "import pandas as pd\n",
    "import scipy.optimize as sopt\n",
    "import scipy.stats as sstats\n",
    "import seaborn as sns\n",
    "import sklearn.ensemble\n",
    "import sklearn.tree\n",
    "from sklearn import datasets\n",
    "from tqdm.auto import tqdm\n",
    "from matplotlib import animation, pyplot, rc\n",
    "from sklearn.model_selection import train_test_split"
   ]
  },
  {
   "cell_type": "code",
   "execution_count": 3,
   "id": "2108148e",
   "metadata": {},
   "outputs": [],
   "source": [
    "def sources(path):\n",
    "    result = [i for i in os.listdir(path) if i.endswith(\".csv\")]\n",
    "    return result"
   ]
  },
  {
   "cell_type": "code",
   "execution_count": null,
   "id": "bc07d8b5",
   "metadata": {},
   "outputs": [
    {
     "name": "stdout",
     "output_type": "stream",
     "text": [
      "Labeling: cr7.csv\n",
      "Column name: Season\n",
      "\n",
      "\n",
      "0    02/03\n",
      "1    02/03\n",
      "2    02/03\n",
      "3    02/03\n",
      "4    02/03\n",
      "Name: Season, dtype: object\n",
      "date\n",
      "Column name: Competition\n",
      "\n",
      "\n",
      "0               Liga Portugal\n",
      "1               Liga Portugal\n",
      "2               Liga Portugal\n",
      "3    Taca de Portugal Placard\n",
      "4    Taca de Portugal Placard\n",
      "Name: Competition, dtype: object\n"
     ]
    }
   ],
   "source": [
    "path = './data/'\n",
    "path_labeled = './labels/'\n",
    "\n",
    "def is_csv(s):\n",
    "    if not isinstance(s, str):\n",
    "        return False\n",
    "    if len(s) < 5:    # ?.csv\n",
    "        return False\n",
    "    if s[-4:] != '.csv':\n",
    "        return False\n",
    "    return True\n",
    "\n",
    "\n",
    "for source in sources(path):\n",
    "    if not is_csv(source):\n",
    "        continue\n",
    "    data = pd.read_csv(path + source)\n",
    "    print(\"Labeling: \" + source)\n",
    "    labels = []\n",
    "    for column in data.columns:\n",
    "        print(\"Column name: \" + column + '\\n\\n')\n",
    "        print(data[column][:5])\n",
    "        label = input()\n",
    "        labels.append(label)\n",
    "    print(\"Labels: \", labels + '\\n\\n')\n",
    "    labels_df = pd.DataFrame(labels)\n",
    "    namepath = path_labeled + source + '_labels'\n",
    "    labels_df.to_csv(namepath, index=False)\n",
    "        \n",
    "\"\"\"\n",
    "\n",
    "\"\"\"\n",
    "    "
   ]
  },
  {
   "cell_type": "code",
   "execution_count": null,
   "id": "52a8946c",
   "metadata": {},
   "outputs": [],
   "source": []
  }
 ],
 "metadata": {
  "kernelspec": {
   "display_name": "Python 3 (ipykernel)",
   "language": "python",
   "name": "python3"
  },
  "language_info": {
   "codemirror_mode": {
    "name": "ipython",
    "version": 3
   },
   "file_extension": ".py",
   "mimetype": "text/x-python",
   "name": "python",
   "nbconvert_exporter": "python",
   "pygments_lexer": "ipython3",
   "version": "3.10.8"
  }
 },
 "nbformat": 4,
 "nbformat_minor": 5
}
