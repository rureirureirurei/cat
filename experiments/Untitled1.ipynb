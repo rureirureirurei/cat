{
 "cells": [
  {
   "cell_type": "code",
   "execution_count": 1,
   "id": "bf001c23",
   "metadata": {},
   "outputs": [],
   "source": [
    "#Standart Python notebook imports\n",
    "\n",
    "import itertools\n",
    "import io\n",
    "import os\n",
    "import re\n",
    "\n",
    "import matplotlib.pyplot as plt\n",
    "import numpy as np\n",
    "import pandas as pd\n",
    "import matplotlib.pyplot as plt\n",
    "import numpy as np\n",
    "import pandas as pd\n",
    "import scipy.optimize as sopt\n",
    "import scipy.stats as sstats\n",
    "import seaborn as sns\n",
    "import sklearn.ensemble\n",
    "import sklearn.tree\n",
    "from sklearn import datasets\n",
    "from tqdm.auto import tqdm\n",
    "from matplotlib import animation, pyplot, rc\n",
    "from sklearn.model_selection import train_test_split"
   ]
  },
  {
   "cell_type": "code",
   "execution_count": 5,
   "id": "e8228c56",
   "metadata": {},
   "outputs": [
    {
     "data": {
      "application/vnd.jupyter.widget-view+json": {
       "model_id": "dcb51a61c8b84153843781c6a4db3875",
       "version_major": 2,
       "version_minor": 0
      },
      "text/plain": [
       "  0%|          | 0/96 [00:00<?, ?it/s]"
      ]
     },
     "metadata": {},
     "output_type": "display_data"
    },
    {
     "data": {
      "text/plain": [
       "32353"
      ]
     },
     "execution_count": 5,
     "metadata": {},
     "output_type": "execute_result"
    }
   ],
   "source": [
    "# Path to the data \n",
    "\n",
    "path = './data/raw/'\n",
    "\n",
    "filepaths = []\n",
    "lens = []\n",
    "\n",
    "for dataset in tqdm(os.listdir(path)):\n",
    "    if dataset == '.DS_Store': continue\n",
    "    for file in os.listdir(path+dataset+'/warc/'):\n",
    "        filepath = path+dataset+'/warc/'+file\n",
    "        filepaths.append(filepath)\n",
    "    lens.append(len(os.listdir(path+dataset+'/warc/')))\n",
    "        \n",
    "len(filepaths)"
   ]
  },
  {
   "cell_type": "code",
   "execution_count": 25,
   "id": "62700187",
   "metadata": {},
   "outputs": [],
   "source": [
    "fp = filepaths[0]\n",
    "\n",
    "with open(fp, \"r\") as file:\n",
    "    content = file.read()\n",
    "\n",
    "import json\n",
    "\n",
    "try:\n",
    "    data = json.loads(content_arr.split('\\n')[0])\n",
    "except json.decoder.JSONDecodeError as e:\n",
    "    print(f\"An error occurred while parsing the JSON file: {e}\")\n"
   ]
  },
  {
   "cell_type": "code",
   "execution_count": 1,
   "id": "99e21146",
   "metadata": {},
   "outputs": [],
   "source": [
    "a=\"\"\"Address Affiliate Affiliation Age Album Area Artist Birth date Birth place Brand Capacity Category City\n",
    "Class Classification Club\n",
    "Code Collection Command Company Component Continent Country County Creator Credit Currency Day\n",
    "Depth Description Director Duration\n",
    "Education Elevation Family\n",
    "File size Format Gender Genre Grades Industry ISBN\n",
    "Jockey Language Location Manufacturer Name Nationality\n",
    "Notes Operator Order Organisation Origin Owner Person\n",
    "Plays Position Product Publisher Range Rank Ranking Region Religion\n",
    "Requirement Result\n",
    "Sales Service\n",
    "Sex\n",
    "Species State Status Symbol Team Team name Type Weight Year\"\"\""
   ]
  },
  {
   "cell_type": "code",
   "execution_count": 6,
   "id": "0b5ef509",
   "metadata": {},
   "outputs": [
    {
     "data": {
      "text/plain": [
       "['address',\n",
       " 'affiliate',\n",
       " 'affiliation',\n",
       " 'age',\n",
       " 'album',\n",
       " 'area',\n",
       " 'artist',\n",
       " 'birth',\n",
       " 'date',\n",
       " 'birth',\n",
       " 'place',\n",
       " 'brand',\n",
       " 'capacity',\n",
       " 'category',\n",
       " 'city',\n",
       " 'class',\n",
       " 'classification',\n",
       " 'club',\n",
       " 'code',\n",
       " 'collection',\n",
       " 'command',\n",
       " 'company',\n",
       " 'component',\n",
       " 'continent',\n",
       " 'country',\n",
       " 'county',\n",
       " 'creator',\n",
       " 'credit',\n",
       " 'currency',\n",
       " 'day',\n",
       " 'depth',\n",
       " 'description',\n",
       " 'director',\n",
       " 'duration',\n",
       " 'education',\n",
       " 'elevation',\n",
       " 'family',\n",
       " 'file',\n",
       " 'size',\n",
       " 'format',\n",
       " 'gender',\n",
       " 'genre',\n",
       " 'grades',\n",
       " 'industry',\n",
       " 'isbn',\n",
       " 'jockey',\n",
       " 'language',\n",
       " 'location',\n",
       " 'manufacturer',\n",
       " 'name',\n",
       " 'nationality',\n",
       " 'notes',\n",
       " 'operator',\n",
       " 'order',\n",
       " 'organisation',\n",
       " 'origin',\n",
       " 'owner',\n",
       " 'person',\n",
       " 'plays',\n",
       " 'position',\n",
       " 'product',\n",
       " 'publisher',\n",
       " 'range',\n",
       " 'rank',\n",
       " 'ranking',\n",
       " 'region',\n",
       " 'religion',\n",
       " 'requirement',\n",
       " 'result',\n",
       " 'sales',\n",
       " 'service',\n",
       " 'sex',\n",
       " 'species',\n",
       " 'state',\n",
       " 'status',\n",
       " 'symbol',\n",
       " 'team',\n",
       " 'team',\n",
       " 'name',\n",
       " 'type',\n",
       " 'weight',\n",
       " 'year']"
      ]
     },
     "execution_count": 6,
     "metadata": {},
     "output_type": "execute_result"
    }
   ],
   "source": [
    "cats = a.lower().replace('\\n',' ').split()"
   ]
  },
  {
   "cell_type": "code",
   "execution_count": null,
   "id": "2d69dcbb",
   "metadata": {},
   "outputs": [],
   "source": []
  }
 ],
 "metadata": {
  "kernelspec": {
   "display_name": "Python 3 (ipykernel)",
   "language": "python",
   "name": "python3"
  },
  "language_info": {
   "codemirror_mode": {
    "name": "ipython",
    "version": 3
   },
   "file_extension": ".py",
   "mimetype": "text/x-python",
   "name": "python",
   "nbconvert_exporter": "python",
   "pygments_lexer": "ipython3",
   "version": "3.10.8"
  }
 },
 "nbformat": 4,
 "nbformat_minor": 5
}
