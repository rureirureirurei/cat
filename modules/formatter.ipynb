{
 "cells": [
  {
   "cell_type": "markdown",
   "id": "64032f5a",
   "metadata": {},
   "source": [
    "## Formatter \n",
    "\n",
    "The raw data was organized in a weird and not-easy to use manner.\n",
    "Formater consits of several functions and methods I used to reorganize data:"
   ]
  },
  {
   "cell_type": "code",
   "execution_count": 71,
   "id": "529657cf",
   "metadata": {},
   "outputs": [],
   "source": [
    "import itertools\n",
    "import io\n",
    "import os\n",
    "from tqdm.auto import tqdm\n",
    "import chardet\n",
    "import codecs\n",
    "import shutil"
   ]
  },
  {
   "cell_type": "code",
   "execution_count": 73,
   "id": "b8c6de5b",
   "metadata": {},
   "outputs": [],
   "source": [
    "\"\"\"\n",
    "    Tries to decode file with the specified filepath into given encoding.\n",
    "    Originally, all files had Windows-1252 encoding\n",
    "\"\"\"\n",
    "\n",
    "def decode(fp, encoding='utf8'):\n",
    "    with open(fp, 'rb') as rawdata: result = chardet.detect(rawdata.read(10000))\n",
    "    try: \n",
    "        with codecs.open(fp, 'r', result['encoding']) as f_input:\n",
    "            text = f_input.read()\n",
    "        text_utf8 = text.encode(encoding)\n",
    "        with open(fp, 'wb') as f_output: f_output.write(text_utf8)\n",
    "    except: pass"
   ]
  },
  {
   "cell_type": "code",
   "execution_count": 72,
   "id": "a9c359f9",
   "metadata": {},
   "outputs": [],
   "source": [
    "\"\"\"\n",
    "    Moves all the files from source to target directory\n",
    "    \n",
    "    Notice, that search is not recursive and is suited only to \n",
    "    work with the given data in format:\n",
    "    \n",
    "    ./data/raw/\n",
    "        dir1/warc/\n",
    "            file1\n",
    "            file2\n",
    "            ...\n",
    "        dir2\n",
    "        ...\n",
    "\n",
    "    TODO? make it recursive, add decode flag\n",
    "\"\"\"\n",
    "\n",
    "def move(source_dir = './data/raw', dest_dir = './data/raw_copy', index_names=True):\n",
    "    cntr=0\n",
    "    for subdir in tqdm(os.listdir(source_dir)):\n",
    "        subdir_path = os.path.join(source_dir, subdir, 'warc')\n",
    "        if not os.path.isdir(subdir_path):\n",
    "            continue\n",
    "        for file in os.listdir(subdir_path):\n",
    "            source = os.path.join(subdir_path, file)\n",
    "            if idex_names:\n",
    "                destination = os.path.join(dest_dir, f'{cntr}')\n",
    "            else:\n",
    "                destination = os.path.join(dest_dir, file)\n",
    "            if os.path.isfile(source):\n",
    "                shutil.copy2(source, destination)\n",
    "                cntr += 1"
   ]
  }
 ],
 "metadata": {
  "kernelspec": {
   "display_name": "Python 3 (ipykernel)",
   "language": "python",
   "name": "python3"
  },
  "language_info": {
   "codemirror_mode": {
    "name": "ipython",
    "version": 3
   },
   "file_extension": ".py",
   "mimetype": "text/x-python",
   "name": "python",
   "nbconvert_exporter": "python",
   "pygments_lexer": "ipython3",
   "version": "3.10.8"
  }
 },
 "nbformat": 4,
 "nbformat_minor": 5
}
