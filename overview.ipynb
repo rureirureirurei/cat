{
 "cells": [
  {
   "cell_type": "code",
   "execution_count": 1,
   "id": "4e5ebbc8-25b4-4a9c-a2b1-46d9fa26ee45",
   "metadata": {},
   "outputs": [],
   "source": [
    "\"\"\"\n",
    "Standart Python notebook imports\n",
    "\n",
    "\"\"\"\n",
    "\n",
    "import numpy as np\n",
    "import pandas as pd\n",
    "\n",
    "from tqdm.auto import tqdm\n",
    "from os.path import join\n",
    "import os\n",
    "import joblib\n",
    "\n",
    "from sklearn.metrics import accuracy_score\n",
    "from sklearn.ensemble import RandomForestClassifier\n",
    "\n",
    "from modules.analyzer import extract_features"
   ]
  },
  {
   "cell_type": "code",
   "execution_count": 2,
   "id": "e8228c56",
   "metadata": {},
   "outputs": [],
   "source": [
    "\"\"\"\n",
    "Load data\n",
    "\n",
    "\"\"\"\n",
    "\n",
    "path = os.path.join('data','parquet')\n",
    "\n",
    "x_train_raw = pd.read_parquet(join(path,'train_values.parquet'))\n",
    "y_train = pd.read_parquet(join(path,'train_labels.parquet')).to_numpy().reshape(-1)\n",
    "\n",
    "x_test_raw = pd.read_parquet(join(path,'test_values.parquet'))\n",
    "y_test = pd.read_parquet(join(path,'test_labels.parquet')).to_numpy().reshape(-1)"
   ]
  },
  {
   "cell_type": "code",
   "execution_count": 3,
   "id": "62700187",
   "metadata": {},
   "outputs": [],
   "source": [
    "\"\"\"\n",
    "Parses a raw string into an array\n",
    " \n",
    "Some strings, such as descriptions, can be quite lengthy. \n",
    "To improve performance only the first max_len elements \n",
    "of the string are taken.\n",
    " \n",
    "\"\"\"\n",
    "\n",
    "def formatted_to_numpy(value, max_len = 1000):\n",
    "    value = value[:max_len]\n",
    "    return np.array(value[2:-2].split(\"\"\"', '\"\"\"))"
   ]
  },
  {
   "cell_type": "code",
   "execution_count": 16,
   "id": "01cb4ecc",
   "metadata": {},
   "outputs": [],
   "source": [
    "\"\"\"\n",
    "Runs a feature extractor on each value in a raw DataFrame\n",
    "The values are taken from the 'values' column. \n",
    "\n",
    "Note that the process of running the feature extractor on\n",
    "all data (400k+ columns) can take a significant amount of time. \n",
    "\n",
    "To facilitate testing and experimentation with the model,\n",
    "a smaller sample size can be set to reduce the features extraction time.\n",
    "\n",
    "\"\"\"\n",
    "\n",
    "def features_from_raw(raw, sample_size = 5000):\n",
    "    values = raw['values'].to_numpy()\n",
    "    sample = values[:sample_size]\n",
    "    return np.array([extract_features(formatted_to_numpy(value))[0] for value in tqdm(sample)])\n",
    "\n",
    "features_keys = extract_features(formatted_to_numpy(x_train_raw['values'][0]))[1]"
   ]
  },
  {
   "cell_type": "code",
   "execution_count": 5,
   "id": "0e1fccc8-fc7e-4793-a6f3-e560b8b97d48",
   "metadata": {
    "jupyter": {
     "source_hidden": true
    },
    "tags": []
   },
   "outputs": [],
   "source": [
    "\"\"\"\n",
    "Tries to load a cached data file\n",
    "\n",
    "Args: \n",
    "    name (str): Name of the file to load.\n",
    "\n",
    "Returns:\n",
    "    A tuple (flag, data), where flag is a boolean indicating whether \n",
    "    the file was loaded or not, and data is the loaded data or None.\n",
    "    \n",
    "\"\"\"\n",
    "\n",
    "def load_cached(name):\n",
    "    cachedpath = join('cached', name + '.joblib')\n",
    "\n",
    "    data = None\n",
    "    loaded = True\n",
    "\n",
    "    if os.path.isfile(cachedpath):\n",
    "        user_choice = input(f\"File {cachedpath} exists, do you want to load it? (y/n)\")\n",
    "        if user_choice == 'y':\n",
    "            data = joblib.load(cachedpath)\n",
    "        else:\n",
    "            loaded = False\n",
    "    else:\n",
    "        loaded = False\n",
    "\n",
    "    return data, loaded"
   ]
  },
  {
   "cell_type": "code",
   "execution_count": 6,
   "id": "5de24079-e762-43e1-b24e-c5b0393a38d5",
   "metadata": {
    "jupyter": {
     "source_hidden": true
    },
    "tags": []
   },
   "outputs": [],
   "source": [
    "\"\"\"\n",
    "Saves file into the cached directory.\n",
    "\n",
    "\"\"\"\n",
    "\n",
    "def save_cached(name, data):\n",
    "    cachedpath = join('cached', name + '.joblib')\n",
    "    joblib.dump(data, cachedpath)"
   ]
  },
  {
   "cell_type": "code",
   "execution_count": 18,
   "id": "1769b225-648d-40a8-9c75-8da8f470b9ac",
   "metadata": {},
   "outputs": [
    {
     "name": "stdin",
     "output_type": "stream",
     "text": [
      "File cached/x_train_features.joblib exists, do you want to load it? (y/n) n\n"
     ]
    },
    {
     "data": {
      "application/vnd.jupyter.widget-view+json": {
       "model_id": "452032f17ef644638e865391c074c9b7",
       "version_major": 2,
       "version_minor": 0
      },
      "text/plain": [
       "  0%|          | 0/5000 [00:00<?, ?it/s]"
      ]
     },
     "metadata": {},
     "output_type": "display_data"
    },
    {
     "name": "stdin",
     "output_type": "stream",
     "text": [
      "File cached/x_test_features.joblib exists, do you want to load it? (y/n) n\n"
     ]
    },
    {
     "data": {
      "application/vnd.jupyter.widget-view+json": {
       "model_id": "3214d34278ce4c0a903221318db9b1ba",
       "version_major": 2,
       "version_minor": 0
      },
      "text/plain": [
       "  0%|          | 0/1000 [00:00<?, ?it/s]"
      ]
     },
     "metadata": {},
     "output_type": "display_data"
    }
   ],
   "source": [
    "\"\"\"\n",
    "Parse data and extract features\n",
    "\n",
    "Data can be saved or loaded from the \"./cached/x_train_features.joblib\"\n",
    "Please note that running the extractor will override existing save.\n",
    "\n",
    "\"\"\"\n",
    "\n",
    "x_train_features, loaded = load_cached('x_train_features')\n",
    "\n",
    "if not loaded:\n",
    "    x_train_features = features_from_raw(x_train_raw, sample_size=5000)\n",
    "    save_cached('x_train_features', x_train_features)\n",
    "    \n",
    "x_test_features, loaded = load_cached('x_test_features')\n",
    "\n",
    "if not loaded:\n",
    "    x_test_features = features_from_raw(x_test_raw, sample_size=1000)\n",
    "    save_cached('x_test_features', x_test_features)"
   ]
  },
  {
   "cell_type": "code",
   "execution_count": 19,
   "id": "709d99d6",
   "metadata": {},
   "outputs": [
    {
     "name": "stdin",
     "output_type": "stream",
     "text": [
      "File cached/random_forest.joblib exists, do you want to load it? (y/n) n\n"
     ]
    }
   ],
   "source": [
    "\"\"\"\n",
    "Train model\n",
    "\n",
    "Model can be saved or loaded from the  \"./cached/RandomForest.joblib\"\n",
    "Please note that running the extractor will eventually override existing save.\n",
    "\n",
    "TODO research optimal number of trees in a forest\n",
    "TODO a lot of graphs wtf no graphs\n",
    "\n",
    "\"\"\"\n",
    "\n",
    "random_forest, loaded = load_cached('random_forest')\n",
    "if not loaded:\n",
    "    random_forest = RandomForestClassifier(n_estimators=100, random_state=0)\n",
    "    random_forest.fit(x_train_features, y_train[:x_train_features.shape[0]])\n",
    "    save_cached('random_forest', random_forest)\n",
    "\n",
    "model = random_forest"
   ]
  },
  {
   "cell_type": "code",
   "execution_count": 52,
   "id": "96ad4646-0cbf-4fb7-bc1f-62fc78979a06",
   "metadata": {
    "tags": []
   },
   "outputs": [
    {
     "name": "stdout",
     "output_type": "stream",
     "text": [
      "length_mean                   : 0.0122\n",
      "length_max                    : 0.0121\n",
      "uppercase_mean                : 0.0086\n",
      "length_min                    : 0.0082\n",
      " _occurrence_mean             : 0.0081\n",
      "alphabetic_mean               : 0.0078\n",
      " _occurrence_max              : 0.0075\n",
      "length_std                    : 0.0075\n",
      " _occurrence_min              : 0.0067\n",
      "numeric_mean                  : 0.0064\n"
     ]
    }
   ],
   "source": [
    "\"\"\" \n",
    "Outputs most valuable features paired with importances\n",
    "\n",
    "sklearn.inspection.permutation_importance is not used due to the high computation time,\n",
    "although might give more accurate result\n",
    "\n",
    "\"\"\"\n",
    "#from sklearn.inspection import permutation_importance\n",
    "#result = permutation_importance(random_forest, x_train_features, y_train[:x_train_features.shape[0]], n_repeats=10,verbose=1)\n",
    "#importances = result.importances_mean\n",
    "\n",
    "importances = random_forest.feature_importances_\n",
    "indices = np.argsort(importances)[::-1]\n",
    "for p1, p2, in np.vstack((features_keys, importances)).T[indices][:10]:\n",
    "    print(f\"{p1 + (30-len(p1))*' '}: {p2[:6]}\")\n",
    "  "
   ]
  },
  {
   "cell_type": "code",
   "execution_count": 53,
   "id": "0b6931dd",
   "metadata": {},
   "outputs": [
    {
     "name": "stdout",
     "output_type": "stream",
     "text": [
      "Train accuracy: 0.9936\n"
     ]
    }
   ],
   "source": [
    "\"\"\"\n",
    "Check the train accuracy for the model.\n",
    "Accuracy should be close to 1 as we are using random forest here\n",
    "\n",
    "\"\"\"\n",
    "\n",
    "accuracy = accuracy_score(model.predict(x_train_features), y_train[:x_train_features.shape[0]])\n",
    "print(f\"Train accuracy: {accuracy}\")"
   ]
  },
  {
   "cell_type": "code",
   "execution_count": 56,
   "id": "be15944b",
   "metadata": {},
   "outputs": [
    {
     "name": "stdout",
     "output_type": "stream",
     "text": [
      "Test accuracy: 0.635\n"
     ]
    }
   ],
   "source": [
    "\"\"\"\n",
    "Check the test accuracy.\n",
    "\n",
    "\"\"\"\n",
    "\n",
    "accuracy = accuracy_score(model.predict(x_test_features), y_test[:x_test_features.shape[0]])\n",
    "print(f\"Test accuracy: {accuracy}\")"
   ]
  },
  {
   "cell_type": "code",
   "execution_count": 58,
   "id": "79a11af3",
   "metadata": {},
   "outputs": [
    {
     "name": "stdout",
     "output_type": "stream",
     "text": [
      "Values    :  'Central Missouri', 'unattached', 'unattached', 'Kansas Sta . . .\n",
      "Predicted :  {'region': 0.17, 'name': 0.06, 'team Name': 0.06}\n",
      "Truth     :  affiliation \n",
      "\n",
      "Values    :  95, 100, 95, 89, 84, 91, 88, 94, 75, 78, 90, 84, 90, 76, 93 . . .\n",
      "Predicted :  {'age': 0.39, 'plays': 0.17, 'rank': 0.08}\n",
      "Truth     :  weight \n",
      "\n",
      "Values    :  'Katie Crews', 'Christian Hiraldo', 'Alex Estrada', 'Fredy  . . .\n",
      "Predicted :  {'jockey': 0.61, 'name': 0.1, 'owner': 0.06}\n",
      "Truth     :  jockey \n",
      "\n",
      "Values    :  'Christian', 'Non-Christian', 'Unreported', 'Jewish', 'Athe . . .\n",
      "Predicted :  {'city': 0.09, 'region': 0.08, 'country': 0.08}\n",
      "Truth     :  religion \n",
      "\n",
      "Values    :  'AAF-McQuay Canada Inc.', 'AAF-McQuay Canada Inc.', 'Abilit . . .\n",
      "Predicted :  {'company': 0.17, 'industry': 0.08, 'team': 0.07}\n",
      "Truth     :  company \n",
      "\n",
      "Values    :  '05 - 08', '04 - 08', '06 - 09', '05 - 08', '06 - 08', '06  . . .\n",
      "Predicted :  {'grades': 0.99, 'age': 0.01, 'depth': 0.0}\n",
      "Truth     :  grades \n",
      "\n",
      "Values    :  'Cerulean Cave (1f)', 'Route 14', 'Route 15'] . . .\n",
      "Predicted :  {'area': 0.4, 'address': 0.08, 'category': 0.06}\n",
      "Truth     :  area \n",
      "\n",
      "Values    :  'libyaml', 'pyyaml', 'libyaml', 'pyyaml', 'pyyaml', 'pysyck . . .\n",
      "Predicted :  {'day': 0.08, 'owner': 0.07, 'status': 0.06}\n",
      "Truth     :  component \n",
      "\n",
      "Values    :  'Citiwest Consulting Ltd', 'Hunter Laird Engineering', None . . .\n",
      "Predicted :  {'album': 0.17, 'location': 0.08, 'description': 0.07}\n",
      "Truth     :  company \n",
      "\n",
      "Values    :  'Various', 'Adams and Brooks', \"Atkinson's Candy\", 'Necco'] . . .\n",
      "Predicted :  {'category': 0.06, 'affiliation': 0.06, 'company': 0.05}\n",
      "Truth     :  manufacturer \n",
      "\n"
     ]
    }
   ],
   "source": [
    "\"\"\"\n",
    "This code performs manual checks on the prediction results.\n",
    "\n",
    "This block outputs the model's predictions on the first 100 test samples\n",
    "and writes data in a fancy way.\n",
    "\n",
    "It can be helpful in identifying poorly predicted types and gaining insights \n",
    "into the model's behavior.\n",
    "\n",
    "\"\"\"\n",
    "\n",
    "def top_classes(preds):\n",
    "    top_indices = np.argsort(preds[0])[::-1][:3]\n",
    "    \n",
    "    top_types = model.classes_[top_indices]\n",
    "    top_probs = preds[0][top_indices]\n",
    "    \n",
    "    return dict(zip(top_types, top_probs))\n",
    "\n",
    "for i in range(10):\n",
    "    preds = model.predict_proba(x_test_features[i].reshape(1, -1))\n",
    "    top = top_classes(preds)\n",
    "    value_sample = x_test_raw['values'].to_numpy()[i][1:60]\n",
    "    \n",
    "    print(\"Values    : \", value_sample, \". . .\")\n",
    "    print(\"Predicted : \", top)\n",
    "    print(\"Truth     : \", y_test[i], '\\n')\n"
   ]
  },
  {
   "cell_type": "code",
   "execution_count": 61,
   "id": "b376d696",
   "metadata": {},
   "outputs": [
    {
     "name": "stdout",
     "output_type": "stream",
     "text": [
      "{'city': 0.13, 'region': 0.11, 'team': 0.08}\n",
      "{'year': 0.32, 'day': 0.1, 'code': 0.1}\n",
      "{'city': 0.13, 'status': 0.07, 'state': 0.07}\n",
      "{'sex': 0.22, 'gender': 0.19, 'type': 0.09}\n"
     ]
    }
   ],
   "source": [
    "\"\"\"\n",
    "This is where you can test the model on your own custom samples!\n",
    "Enjoy experimenting with the model :D\n",
    "\n",
    "Please be aware that the performance of the model may be poor \n",
    "when working with a small number of samples, as it relies on \n",
    "statistics collected from a large datasets.\n",
    "\n",
    "\"\"\"\n",
    "\n",
    "your_samples = np.array([\n",
    "    [\"Alice\", \"Bob\", \"Donald\", \"Duda\", \"Petro\", \"Jacek\"],\n",
    "    [\"12/21/2004\"],\n",
    "    [\"Ukraine\", \"Poland\", \"China\"],\n",
    "    [\"male\", \"female\", \"male\", \"m\", \"m\", \"f\"],\n",
    "], dtype=object)\n",
    "\n",
    "for sample in your_samples:\n",
    "    preds = model.predict_proba(extract_features(sample)[0].reshape(1,-1))\n",
    "    top = top_classes(preds)\n",
    "    print(top)"
   ]
  },
  {
   "cell_type": "code",
   "execution_count": null,
   "id": "24b143b3",
   "metadata": {},
   "outputs": [],
   "source": []
  }
 ],
 "metadata": {
  "kernelspec": {
   "display_name": "Python 3 (ipykernel)",
   "language": "python",
   "name": "python3"
  },
  "language_info": {
   "codemirror_mode": {
    "name": "ipython",
    "version": 3
   },
   "file_extension": ".py",
   "mimetype": "text/x-python",
   "name": "python",
   "nbconvert_exporter": "python",
   "pygments_lexer": "ipython3",
   "version": "3.10.8"
  }
 },
 "nbformat": 4,
 "nbformat_minor": 5
}
