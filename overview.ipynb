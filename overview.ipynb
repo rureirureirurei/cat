{
 "cells": [
  {
   "cell_type": "code",
   "execution_count": 144,
   "id": "4e5ebbc8-25b4-4a9c-a2b1-46d9fa26ee45",
   "metadata": {},
   "outputs": [],
   "source": [
    "\"\"\"\n",
    "Standart Python notebook imports\n",
    "\n",
    "\"\"\"\n",
    "\n",
    "import numpy as np\n",
    "import pandas as pd\n",
    "\n",
    "from tqdm.auto import tqdm\n",
    "from os.path import join\n",
    "import os\n",
    "import joblib\n",
    "\n",
    "from sklearn.metrics import accuracy_score\n",
    "from sklearn.ensemble import RandomForestClassifier\n",
    "import matplotlib.pyplot as plt\n",
    "import tensorflow as tf\n",
    "from tensorflow import keras\n",
    "\n",
    "from modules.FeaturesExtractor import extract_features\n",
    "from modules.cats import cats"
   ]
  },
  {
   "cell_type": "code",
   "execution_count": 97,
   "id": "e8228c56",
   "metadata": {},
   "outputs": [],
   "source": [
    "\"\"\"\n",
    "Load data\n",
    "\n",
    "\"\"\"\n",
    "\n",
    "path = os.path.join('data','parquet')\n",
    "\n",
    "x_train_raw = pd.read_parquet(join(path,'train_values.parquet'))\n",
    "y_train = pd.read_parquet(join(path,'train_labels.parquet')).to_numpy().reshape(-1)\n",
    "\n",
    "x_test_raw = pd.read_parquet(join(path,'test_values.parquet'))\n",
    "y_test = pd.read_parquet(join(path,'test_labels.parquet')).to_numpy().reshape(-1)"
   ]
  },
  {
   "cell_type": "code",
   "execution_count": 98,
   "id": "62700187",
   "metadata": {},
   "outputs": [],
   "source": [
    "\"\"\"\n",
    "Parses a raw string into an array\n",
    " \n",
    "Some strings, such as descriptions, can be quite lengthy. \n",
    "To improve performance only the first max_len elements \n",
    "of the string are taken.\n",
    " \n",
    "\"\"\"\n",
    "\n",
    "def formatted_to_numpy(value, max_len = 1000):\n",
    "    value = value[:max_len]\n",
    "    return np.array(value[2:-2].split(\"\"\"', '\"\"\"))"
   ]
  },
  {
   "cell_type": "code",
   "execution_count": 99,
   "id": "01cb4ecc",
   "metadata": {},
   "outputs": [],
   "source": [
    "\"\"\"\n",
    "Runs a feature extractor on each value in a raw DataFrame\n",
    "The values are taken from the 'values' column. \n",
    "\n",
    "Note that the process of running the feature extractor on\n",
    "all data (400k+ columns) can take a significant amount of time. \n",
    "\n",
    "To facilitate testing and experimentation with the model,\n",
    "a smaller sample size can be set to reduce the features extraction time.\n",
    "\n",
    "features_keys consists of human-readable \n",
    "\"\"\"\n",
    "\n",
    "def features_from_raw(raw, sample_size = 5000):\n",
    "    values = raw['values'].to_numpy()\n",
    "    sample = values[:sample_size]\n",
    "    return np.array([extract_features(formatted_to_numpy(value))[0] for value in tqdm(sample)])\n",
    "\n",
    "features_keys = extract_features(formatted_to_numpy(x_train_raw['values'][0]))[1]"
   ]
  },
  {
   "cell_type": "code",
   "execution_count": 100,
   "id": "0e1fccc8-fc7e-4793-a6f3-e560b8b97d48",
   "metadata": {
    "tags": []
   },
   "outputs": [],
   "source": [
    "\"\"\"\n",
    "Tries to load a cached data file\n",
    "\n",
    "Args: \n",
    "    name (str): Name of the file to load.\n",
    "\n",
    "Returns:\n",
    "    A tuple (flag, data), where flag is a boolean indicating whether \n",
    "    the file was loaded or not, and data is the loaded data or None.\n",
    "    \n",
    "\"\"\"\n",
    "\n",
    "def load_cached(name):\n",
    "    cachedpath = join('cached', name + '.joblib')\n",
    "\n",
    "    data = None\n",
    "    loaded = True\n",
    "\n",
    "    if os.path.isfile(cachedpath):\n",
    "        user_choice = input(f\"File {cachedpath} exists, do you want to load it? (y/n)\")\n",
    "        if user_choice == 'y':\n",
    "            data = joblib.load(cachedpath)\n",
    "        else:\n",
    "            loaded = False\n",
    "    else:\n",
    "        loaded = False\n",
    "\n",
    "    return data, loaded"
   ]
  },
  {
   "cell_type": "code",
   "execution_count": 129,
   "id": "5de24079-e762-43e1-b24e-c5b0393a38d5",
   "metadata": {
    "tags": []
   },
   "outputs": [],
   "source": [
    "\"\"\"\n",
    "Saves object into the cached directory.\n",
    "\n",
    "\"\"\"\n",
    "\n",
    "def save_cached(name, data):\n",
    "    cachedpath = join('cached', name + '.joblib')\n",
    "    joblib.dump(data, cachedpath)"
   ]
  },
  {
   "cell_type": "code",
   "execution_count": 130,
   "id": "1769b225-648d-40a8-9c75-8da8f470b9ac",
   "metadata": {},
   "outputs": [
    {
     "name": "stdin",
     "output_type": "stream",
     "text": [
      "File cached/x_train_features.joblib exists, do you want to load it? (y/n) n\n"
     ]
    },
    {
     "data": {
      "application/vnd.jupyter.widget-view+json": {
       "model_id": "80369b393142424d81f7090a2d028551",
       "version_major": 2,
       "version_minor": 0
      },
      "text/plain": [
       "  0%|          | 0/412058 [00:00<?, ?it/s]"
      ]
     },
     "metadata": {},
     "output_type": "display_data"
    },
    {
     "name": "stdin",
     "output_type": "stream",
     "text": [
      "File cached/x_test_features.joblib exists, do you want to load it? (y/n) n\n"
     ]
    },
    {
     "data": {
      "application/vnd.jupyter.widget-view+json": {
       "model_id": "b001fe5ac1d741d39fb1e457eeb8a061",
       "version_major": 2,
       "version_minor": 0
      },
      "text/plain": [
       "  0%|          | 0/137352 [00:00<?, ?it/s]"
      ]
     },
     "metadata": {},
     "output_type": "display_data"
    }
   ],
   "source": [
    "\"\"\"\n",
    "Parse data and extract features\n",
    "\n",
    "Data can be saved or loaded from the \"./cached/x_train_features.joblib\"\n",
    "Please note that running the extractor will override existing save.\n",
    "\n",
    "Set sample_size to smaller numbers (1e3-1e4) for testing\n",
    "\n",
    "\"\"\"\n",
    "\n",
    "x_train_features, loaded = load_cached('x_train_features')\n",
    "\n",
    "if not loaded:\n",
    "    x_train_features = features_from_raw(x_train_raw, sample_size=-1)\n",
    "    save_cached('x_train_features', x_train_features)\n",
    "    \n",
    "x_test_features, loaded = load_cached('x_test_features')\n",
    "\n",
    "if not loaded:\n",
    "    x_test_features = features_from_raw(x_test_raw, sample_size=-1)\n",
    "    save_cached('x_test_features', x_test_features)"
   ]
  },
  {
   "cell_type": "code",
   "execution_count": 134,
   "id": "709d99d6",
   "metadata": {},
   "outputs": [
    {
     "name": "stdin",
     "output_type": "stream",
     "text": [
      "File cached/random_forest.joblib exists, do you want to load it? (y/n) n\n"
     ]
    }
   ],
   "source": [
    "\"\"\"\n",
    "Train model (1) Random Forest\n",
    "\n",
    "Model can be saved or loaded from the  \"./cached/RandomForest.joblib\"\n",
    "Please note that retraining the model will  override existing save.\n",
    "\n",
    "\"\"\"\n",
    "\n",
    "random_forest, loaded = load_cached('random_forest')\n",
    "if not loaded:\n",
    "    random_forest = RandomForestClassifier(n_estimators=10, random_state=0)\n",
    "    random_forest.fit(x_train_features, y_train[:x_train_features.shape[0]])\n",
    "    save_cached('random_forest', random_forest)\n",
    "\n",
    "model = random_forest"
   ]
  },
  {
   "cell_type": "code",
   "execution_count": 135,
   "id": "96ad4646-0cbf-4fb7-bc1f-62fc78979a06",
   "metadata": {
    "tags": []
   },
   "outputs": [
    {
     "name": "stdout",
     "output_type": "stream",
     "text": [
      "length_mean                   : 0.0154\n",
      " _occurrence_mean             : 0.0103\n",
      "length_max                    : 0.0098\n",
      "uniqueness                    : 0.0094\n",
      "uppercase_mean                : 0.0092\n",
      "uppercase_min                 : 0.0082\n",
      "length_min                    : 0.0081\n",
      "alphabetic_mean               : 0.0080\n",
      " _occurrence_max              : 0.0079\n",
      "numeric_max                   : 0.0074\n",
      "\f",
      "_occurence_on_position_9     : 0.0\n",
      "\n",
      "_occurence_on_position_1     : 0.0\n",
      "_occurence_on_position_1     : 0.0\n",
      "\u000b",
      "_occurence_on_position_1     : 0.0\n",
      "\f",
      "_occurence_on_position_1     : 0.0\n",
      "<_occurence_on_position_2     : 0.0\n",
      ">_occurence_on_position_2     : 0.0\n",
      "@_occurence_on_position_2     : 0.0\n",
      "^_occurence_on_position_2     : 0.0\n",
      "`_occurence_on_position_2     : 0.0\n"
     ]
    }
   ],
   "source": [
    "\"\"\" \n",
    "Outputs most valuable features paired with importances\n",
    "\n",
    "sklearn.inspection.permutation_importance is not used due to the high computation time,\n",
    "although might give more accurate result\n",
    "\n",
    "\"\"\"\n",
    "#from sklearn.inspection import permutation_importance\n",
    "#result = permutation_importance(random_forest, x_train_features, y_train[:x_train_features.shape[0]], n_repeats=10,verbose=1)\n",
    "#importances = result.importances_mean\n",
    "\n",
    "importances = random_forest.feature_importances_\n",
    "indices = np.argsort(importances)[::-1]\n",
    "for p1, p2, in np.vstack((features_keys, importances)).T[indices][:10]:\n",
    "    print(f\"{p1 + (30-len(p1))*' '}: {p2[:6]}\")\n",
    "\n",
    "for p1, p2, in np.vstack((features_keys, importances)).T[indices][::-1][:10]:\n",
    "    print(f\"{p1 + (30-len(p1))*' '}: {p2[:6]}\")"
   ]
  },
  {
   "cell_type": "code",
   "execution_count": 107,
   "id": "e5150cae-dfe5-442d-9b94-8e65bfc76a63",
   "metadata": {
    "jupyter": {
     "source_hidden": true
    },
    "tags": []
   },
   "outputs": [],
   "source": [
    "\"\"\"\n",
    "Plots test and train loss and accuracy.\n",
    "\n",
    "\"\"\"\n",
    "\n",
    "def plot_history(history):\n",
    "    loss = history.history['loss']\n",
    "    val_loss = history.history['val_loss']\n",
    "    acc = history.history['accuracy']\n",
    "    val_acc = history.history['val_accuracy']\n",
    "\n",
    "    epochs = range(1, len(loss) + 1)\n",
    "\n",
    "    fig, axs = plt.subplots(1, 2, figsize=(15,5))\n",
    "\n",
    "    axs[0].plot(epochs, loss, 'r', label='Training loss')\n",
    "    axs[0].plot(epochs, val_loss, 'b', label='Validation loss')\n",
    "    axs[0].set_title('Training and validation loss')\n",
    "    axs[0].set_xlabel('Epochs')\n",
    "    axs[0].set_ylabel('Loss')\n",
    "    axs[0].legend()\n",
    "\n",
    "    axs[1].plot(epochs, acc, 'r', label='Training accuracy')\n",
    "    axs[1].plot(epochs, val_acc, 'b', label='Validation accuracy')\n",
    "    axs[1].set_title('Training and validation accuracy')\n",
    "    axs[1].set_xlabel('Epochs')\n",
    "    axs[1].set_ylabel('Accuracy')\n",
    "    axs[1].legend()\n",
    "\n",
    "    plt.show()"
   ]
  },
  {
   "cell_type": "code",
   "execution_count": 131,
   "id": "dd5bf036-774e-409f-835f-da5906cf4367",
   "metadata": {
    "jupyter": {
     "source_hidden": true
    },
    "tags": []
   },
   "outputs": [
    {
     "data": {
      "image/png": "[encoded data removed]",
      "text/plain": [
       "<Figure size 640x480 with 1 Axes>"
      ]
     },
     "metadata": {},
     "output_type": "display_data"
    }
   ],
   "source": [
    "\"\"\"\n",
    "Plots histogram of occurences of most frequent elements in array\n",
    "\n",
    "\"\"\"\n",
    "\n",
    "def plot_occurences(data, sample_size=7):\n",
    "\n",
    "    # Get the sorted counts and values\n",
    "    values, counts = np.unique(data, return_counts=True)\n",
    "    sorted_counts, sorted_values = zip(*sorted(zip(counts, values), reverse=True))\n",
    "\n",
    "    # Plot the histogram\n",
    "    fig, ax = plt.subplots()\n",
    "    ax.bar(sorted_values[:sample_size], sorted_counts[:sample_size])\n",
    "    ax.set_xticks(sorted_values[:sample_size])\n",
    "    ax.set_title('Histogram of Sorted Counts')\n",
    "    plt.show()\n",
    "\n",
    "plot_occurences(y_train)"
   ]
  },
  {
   "cell_type": "code",
   "execution_count": 173,
   "id": "0b6931dd",
   "metadata": {},
   "outputs": [
    {
     "name": "stdout",
     "output_type": "stream",
     "text": [
      "Train accuracy: 0.9834149561469502\n",
      "Test accuracy: 0.8277418603296639\n"
     ]
    }
   ],
   "source": [
    "\"\"\"\n",
    "Check the train and test accuracy for the RandomForest.\n",
    "Accuracy should be close to 1 as we are using random forest here\n",
    "\n",
    "\"\"\"\n",
    "\n",
    "accuracy = accuracy_score(random_forest.predict(x_train_features), y_train[:x_train_features.shape[0]])\n",
    "print(f\"Train accuracy: {accuracy}\")\n",
    "accuracy = accuracy_score(random_forest.predict(x_test_features), y_test[:x_test_features.shape[0]])\n",
    "print(f\"Test accuracy: {accuracy}\")"
   ]
  },
  {
   "cell_type": "code",
   "execution_count": 196,
   "id": "6fdbb372-ad0e-454a-8b5e-99cb19aed46c",
   "metadata": {},
   "outputs": [
    {
     "data": {
      "text/plain": [
       "<scipy.interpolate._bsplines.BSpline at 0x17be69450>"
      ]
     },
     "execution_count": 196,
     "metadata": {},
     "output_type": "execute_result"
    }
   ],
   "source": []
  },
  {
   "cell_type": "code",
   "execution_count": 231,
   "id": "69eef062-81f2-416d-91eb-26a840855b37",
   "metadata": {},
   "outputs": [
    {
     "data": {
      "image/png": "[encoded data removed]",
      "text/plain": [
       "<Figure size 2000x500 with 2 Axes>"
      ]
     },
     "metadata": {},
     "output_type": "display_data"
    },
    {
     "name": "stdout",
     "output_type": "stream",
     "text": [
      "Mean:     0.792\n",
      "Min:      0.262\n",
      "Max:      0.992\n",
      "Std:      0.151\n",
      "Median:   0.823\n",
      "Kurtosis: 1.069\n",
      "\n",
      "grades               0.991\n",
      "isbn                 0.986\n",
      "birth Date           0.964\n",
      "elevation            0.954\n",
      "symbol               0.952\n",
      "industry             0.950\n",
      "age                  0.937\n",
      "year                 0.936\n",
      "duration             0.932\n",
      "affiliation          0.927\n",
      "format               0.926\n",
      "sex                  0.926\n",
      "club                 0.925\n",
      "jockey               0.923\n",
      "continent            0.920\n",
      "weight               0.920\n",
      "state                0.917\n",
      "depth                0.916\n",
      "plays                0.913\n",
      "address              0.910\n",
      "day                  0.906\n",
      "currency             0.906\n",
      "result               0.905\n",
      "code                 0.898\n",
      "file Size            0.897\n",
      "collection           0.894\n",
      "country              0.894\n",
      "class                0.891\n",
      "status               0.89\n",
      "service              0.889\n",
      "command              0.886\n",
      "language             0.881\n",
      "religion             0.864\n",
      "family               0.860\n",
      "origin               0.858\n",
      "birth Place          0.856\n",
      "county               0.851\n",
      "category             0.832\n",
      "classification       0.822\n",
      "gender               0.822\n",
      "genre                0.820\n",
      "component            0.817\n",
      "type                 0.816\n",
      "description          0.798\n",
      "education            0.798\n",
      "area                 0.785\n",
      "city                 0.776\n",
      "position             0.776\n",
      "product              0.762\n",
      "order                0.761\n",
      "rank                 0.756\n",
      "company              0.753\n",
      "owner                0.748\n",
      "notes                0.741\n",
      "album                0.738\n",
      "location             0.737\n",
      "region               0.737\n",
      "requirement          0.723\n",
      "range                0.720\n",
      "creator              0.717\n",
      "team                 0.716\n",
      "organisation         0.709\n",
      "artist               0.704\n",
      "species              0.682\n",
      "publisher            0.659\n",
      "affiliate            0.656\n",
      "capacity             0.651\n",
      "nationality          0.599\n",
      "team Name            0.589\n",
      "credit               0.557\n",
      "manufacturer         0.540\n",
      "name                 0.538\n",
      "operator             0.509\n",
      "person               0.493\n",
      "sales                0.468\n",
      "brand                0.452\n",
      "ranking              0.405\n",
      "director             0.262\n"
     ]
    }
   ],
   "source": [
    "\"\"\"\n",
    "Here we compute the accuracies for each category independently and bunch of statystical features.\n",
    "Obviously, some categories are easier to identify due to their fixed syntax, while others' structures\n",
    "can vary strongly.\n",
    "\n",
    "TODO make offseted fancy output as a function\n",
    "TODO nparray from dict values as a function\n",
    "\n",
    "\"\"\"\n",
    "\n",
    "test_guessed = random_forest.predict(x_test_features) == y_test[:x_test_features.shape[0]]\n",
    "\n",
    "percentage_guessed = {}\n",
    "\n",
    "for cat in cats:\n",
    "    indices = (y_test[:x_test_features.shape[0]] == cat)\n",
    "    n = indices.sum()\n",
    "    percentage_guessed[cat] = test_guessed[indices].sum() / n\n",
    "\n",
    "sorted_percentage_guessed = dict(sorted(percentage_guessed.items(), key=lambda x: x[1], reverse=True))\n",
    "\n",
    "values = np.array(list(sorted_percentage_guessed.values()))\n",
    "\n",
    "GRID_DENSITY = 10000\n",
    "\n",
    "grid = np.zeros(GRID_DENSITY)\n",
    "for val in values:\n",
    "    grid[int(val * GRID_DENSITY)] += 1\n",
    "\n",
    "# create a plot\n",
    "\n",
    "fig, axs = plt.subplots(1, 2, figsize=(20,5))\n",
    "\n",
    "axs[0].plot(np.cumsum(grid))\n",
    "axs[0].set_title('Cumulative distribution over accuracies')\n",
    "\n",
    "ma_size = 1000\n",
    "kernel = np.ones(ma_size) / ma_size\n",
    "\n",
    "grid = np.convolve(grid, kernel, mode='same')\n",
    "axs[1].plot(grid)\n",
    "axs[1].set_title('Distribution over accuracies smoothed with moving average')\n",
    "\n",
    "\n",
    "plt.show()\n",
    "\n",
    "\n",
    "print(f\"Mean:     {values.mean():.3g}\")\n",
    "print(f\"Min:      {values.min():.3g}\")\n",
    "print(f\"Max:      {values.max():.3g}\")\n",
    "print(f\"Std:      {values.std():.3g}\")\n",
    "print(f\"Median:   {np.median(values):.3g}\")\n",
    "print(f\"Kurtosis: {(np.mean((values - np.mean(values))**4) / np.mean((values - np.mean(values))**2)**2 - 3):.4g}\\n\")\n",
    "\n",
    "for a in sorted_percentage_guessed:\n",
    "    print(a + (20 - len(a)) * ' ', str(sorted_percentage_guessed[a])[:5])\n",
    "\n"
   ]
  },
  {
   "cell_type": "code",
   "execution_count": 138,
   "id": "39cd9b04-4314-4d33-9bed-b83d84777438",
   "metadata": {},
   "outputs": [
    {
     "name": "stdout",
     "output_type": "stream",
     "text": [
      "Epoch 1/25\n",
      "805/805 [==============================] - 10s 12ms/step - loss: 1.9357 - accuracy: 0.5551 - val_loss: 1.1843 - val_accuracy: 0.7113\n",
      "Epoch 2/25\n",
      "805/805 [==============================] - 10s 12ms/step - loss: 1.1800 - accuracy: 0.7117 - val_loss: 1.0013 - val_accuracy: 0.7510\n",
      "Epoch 3/25\n",
      "805/805 [==============================] - 9s 12ms/step - loss: 1.0267 - accuracy: 0.7453 - val_loss: 0.9079 - val_accuracy: 0.7719\n",
      "Epoch 4/25\n",
      "805/805 [==============================] - 9s 12ms/step - loss: 0.9405 - accuracy: 0.7641 - val_loss: 0.8442 - val_accuracy: 0.7892\n",
      "Epoch 5/25\n",
      "805/805 [==============================] - 10s 12ms/step - loss: 0.8779 - accuracy: 0.7781 - val_loss: 0.8151 - val_accuracy: 0.7951\n",
      "Epoch 6/25\n",
      "805/805 [==============================] - 10s 12ms/step - loss: 0.8317 - accuracy: 0.7876 - val_loss: 0.7874 - val_accuracy: 0.8010\n",
      "Epoch 7/25\n",
      "805/805 [==============================] - 10s 12ms/step - loss: 0.7910 - accuracy: 0.7971 - val_loss: 0.7559 - val_accuracy: 0.8092\n",
      "Epoch 8/25\n",
      "805/805 [==============================] - 9s 12ms/step - loss: 0.7591 - accuracy: 0.8034 - val_loss: 0.7375 - val_accuracy: 0.8125\n",
      "Epoch 9/25\n",
      "805/805 [==============================] - 13s 16ms/step - loss: 0.7328 - accuracy: 0.8095 - val_loss: 0.7239 - val_accuracy: 0.8163\n",
      "Epoch 10/25\n",
      "805/805 [==============================] - 10s 12ms/step - loss: 0.7118 - accuracy: 0.8141 - val_loss: 0.7079 - val_accuracy: 0.8209\n",
      "Epoch 11/25\n",
      "805/805 [==============================] - 9s 12ms/step - loss: 0.6892 - accuracy: 0.8192 - val_loss: 0.7033 - val_accuracy: 0.8218\n",
      "Epoch 12/25\n",
      "805/805 [==============================] - 9s 12ms/step - loss: 0.6729 - accuracy: 0.8223 - val_loss: 0.6934 - val_accuracy: 0.8255\n",
      "Epoch 13/25\n",
      "805/805 [==============================] - 9s 12ms/step - loss: 0.6598 - accuracy: 0.8248 - val_loss: 0.6889 - val_accuracy: 0.8269\n",
      "Epoch 14/25\n",
      "805/805 [==============================] - 10s 12ms/step - loss: 0.6452 - accuracy: 0.8286 - val_loss: 0.6765 - val_accuracy: 0.8299\n",
      "Epoch 15/25\n",
      "805/805 [==============================] - 9s 12ms/step - loss: 0.6308 - accuracy: 0.8313 - val_loss: 0.6799 - val_accuracy: 0.8291\n",
      "Epoch 16/25\n",
      "805/805 [==============================] - 9s 12ms/step - loss: 0.6172 - accuracy: 0.8339 - val_loss: 0.6802 - val_accuracy: 0.8304\n",
      "Epoch 17/25\n",
      "805/805 [==============================] - 9s 12ms/step - loss: 0.6069 - accuracy: 0.8363 - val_loss: 0.6729 - val_accuracy: 0.8323\n",
      "Epoch 18/25\n",
      "805/805 [==============================] - 9s 12ms/step - loss: 0.5990 - accuracy: 0.8377 - val_loss: 0.6661 - val_accuracy: 0.8331\n",
      "Epoch 19/25\n",
      "805/805 [==============================] - 9s 12ms/step - loss: 0.5901 - accuracy: 0.8402 - val_loss: 0.6655 - val_accuracy: 0.8342\n",
      "Epoch 20/25\n",
      "805/805 [==============================] - 9s 12ms/step - loss: 0.5816 - accuracy: 0.8421 - val_loss: 0.6670 - val_accuracy: 0.8352\n",
      "Epoch 21/25\n",
      "805/805 [==============================] - 9s 12ms/step - loss: 0.5752 - accuracy: 0.8436 - val_loss: 0.6627 - val_accuracy: 0.8350\n",
      "Epoch 22/25\n",
      "805/805 [==============================] - 9s 12ms/step - loss: 0.5673 - accuracy: 0.8453 - val_loss: 0.6561 - val_accuracy: 0.8358\n",
      "Epoch 23/25\n",
      "805/805 [==============================] - 9s 12ms/step - loss: 0.5609 - accuracy: 0.8468 - val_loss: 0.6533 - val_accuracy: 0.8387\n",
      "Epoch 24/25\n",
      "805/805 [==============================] - 10s 12ms/step - loss: 0.5539 - accuracy: 0.8482 - val_loss: 0.6535 - val_accuracy: 0.8381\n",
      "Epoch 25/25\n",
      "805/805 [==============================] - 9s 12ms/step - loss: 0.5466 - accuracy: 0.8497 - val_loss: 0.6492 - val_accuracy: 0.8405\n",
      "4293/4293 [==============================] - 4s 1ms/step - loss: 0.6492 - accuracy: 0.8405\n",
      "Test accuracy: 0.8405047059059143\n"
     ]
    },
    {
     "data": {
      "image/png": "[encoded data removed]",
      "text/plain": [
       "<Figure size 1500x500 with 2 Axes>"
      ]
     },
     "metadata": {},
     "output_type": "display_data"
    }
   ],
   "source": [
    "\"\"\"\n",
    "Train model (2) Neural Network\n",
    "\n",
    "TODO Model can be saved or loaded from the  \"./cached/nn2.joblib\"\n",
    "Please note that running the training will override existing save.\n",
    "\n",
    "\"\"\"\n",
    "\n",
    "# Get numeric encoding for target vectors\n",
    "y_train_numeric = np.array([cats[y] for y in y_train])\n",
    "y_test_numeric = np.array([cats[y] for y in y_test])\n",
    "\n",
    "# Load data\n",
    "y_train_categorical = keras.utils.to_categorical(y_train_numeric[:x_train_features.shape[0]], 78)\n",
    "y_test_categorical = keras.utils.to_categorical(y_test_numeric[:x_test_features.shape[0]], 78)\n",
    "\n",
    "# Build the model\n",
    "model = keras.Sequential([\n",
    "    keras.layers.Dense(500, activation='relu', input_shape=(x_train_features.shape[1],)),\n",
    "    keras.layers.Dropout(0.3),\n",
    "    keras.layers.Dense(500, activation='relu'),\n",
    "    keras.layers.Dropout(0.3),\n",
    "    keras.layers.Dense(78, activation='softmax')\n",
    "])\n",
    "\n",
    "# Compile the model\n",
    "model.compile(optimizer='adam',\n",
    "              loss='categorical_crossentropy',\n",
    "              metrics=['accuracy'])\n",
    "\n",
    "# Train the model\n",
    "history = model.fit(x_train_features, y_train_categorical, epochs=25, batch_size=512, verbose=1,\n",
    "                    validation_data=(x_test_features, y_test_categorical))\n",
    "\n",
    "# Evaluate the model on test data\n",
    "test_loss, test_acc = model.evaluate(x_test_features, y_test_categorical)\n",
    "print('Test accuracy:', test_acc)\n",
    "plot_history(history)\n"
   ]
  },
  {
   "cell_type": "code",
   "execution_count": 139,
   "id": "79a11af3",
   "metadata": {},
   "outputs": [
    {
     "name": "stdout",
     "output_type": "stream",
     "text": [
      "Values    :  'Central Missouri', 'unattached', 'unattached', 'Kansas Sta . . .\n",
      "Predicted :  {'affiliation': 0.3, 'country': 0.2, 'category': 0.2}\n",
      "Truth     :  affiliation \n",
      "\n",
      "Values    :  95, 100, 95, 89, 84, 91, 88, 94, 75, 78, 90, 84, 90, 76, 93 . . .\n",
      "Predicted :  {'rank': 0.3, 'plays': 0.3, 'education': 0.2}\n",
      "Truth     :  weight \n",
      "\n",
      "Values    :  'Katie Crews', 'Christian Hiraldo', 'Alex Estrada', 'Fredy  . . .\n",
      "Predicted :  {'jockey': 0.9, 'owner': 0.1, 'year': 0.0}\n",
      "Truth     :  jockey \n",
      "\n",
      "Values    :  'Christian', 'Non-Christian', 'Unreported', 'Jewish', 'Athe . . .\n",
      "Predicted :  {'type': 0.2, 'language': 0.1, 'name': 0.1}\n",
      "Truth     :  religion \n",
      "\n",
      "Values    :  'AAF-McQuay Canada Inc.', 'AAF-McQuay Canada Inc.', 'Abilit . . .\n",
      "Predicted :  {'company': 0.3, 'album': 0.2, 'description': 0.1}\n",
      "Truth     :  company \n",
      "\n",
      "Values    :  '05 - 08', '04 - 08', '06 - 09', '05 - 08', '06 - 08', '06  . . .\n",
      "Predicted :  {'grades': 1.0, 'depth': 0.0, 'continent': 0.0}\n",
      "Truth     :  grades \n",
      "\n",
      "Values    :  'Cerulean Cave (1f)', 'Route 14', 'Route 15'] . . .\n",
      "Predicted :  {'area': 1.0, 'year': 0.0, 'depth': 0.0}\n",
      "Truth     :  area \n",
      "\n",
      "Values    :  'libyaml', 'pyyaml', 'libyaml', 'pyyaml', 'pyyaml', 'pysyck . . .\n",
      "Predicted :  {'component': 1.0, 'depth': 0.0, 'continent': 0.0}\n",
      "Truth     :  component \n",
      "\n",
      "Values    :  'Citiwest Consulting Ltd', 'Hunter Laird Engineering', None . . .\n",
      "Predicted :  {'album': 0.3, 'name': 0.2, 'jockey': 0.1}\n",
      "Truth     :  company \n",
      "\n",
      "Values    :  'Various', 'Adams and Brooks', \"Atkinson's Candy\", 'Necco'] . . .\n",
      "Predicted :  {'album': 0.3, 'command': 0.1, 'credit': 0.1}\n",
      "Truth     :  manufacturer \n",
      "\n"
     ]
    }
   ],
   "source": [
    "\"\"\"\n",
    "This code performs manual checks on the prediction results using Random Forest.\n",
    "\n",
    "This block outputs the model's predictions on the first 10 test samples\n",
    "and writes data in a fancy way.\n",
    "\n",
    "It can be helpful in identifying poorly predicted types and gaining insights \n",
    "into the model's behavior.\n",
    "\n",
    "\"\"\"\n",
    "\n",
    "model = random_forest\n",
    "\n",
    "def top_classes(preds):\n",
    "    top_indices = np.argsort(preds[0])[::-1][:3]\n",
    "    \n",
    "    top_types = model.classes_[top_indices]\n",
    "    top_probs = preds[0][top_indices]\n",
    "    \n",
    "    return dict(zip(top_types, top_probs))\n",
    "\n",
    "for i in range(10):\n",
    "    preds = model.predict_proba(x_test_features[i].reshape(1, -1))\n",
    "    top = top_classes(preds)\n",
    "    value_sample = x_test_raw['values'].to_numpy()[i][1:60]\n",
    "    \n",
    "    print(\"Values    : \", value_sample, \". . .\")\n",
    "    print(\"Predicted : \", top)\n",
    "    print(\"Truth     : \", y_test[i], '\\n')\n"
   ]
  },
  {
   "cell_type": "code",
   "execution_count": 143,
   "id": "b376d696",
   "metadata": {},
   "outputs": [
    {
     "name": "stdout",
     "output_type": "stream",
     "text": [
      "{'city': 0.3, 'person': 0.2, 'type': 0.2}\n",
      "{'year': 0.7, 'duration': 0.2, 'day': 0.1}\n",
      "{'country': 0.6, 'team Name': 0.2, 'type': 0.1}\n",
      "{'gender': 0.3, 'sex': 0.3, 'symbol': 0.1}\n",
      "{'command': 0.2, 'category': 0.2, 'type': 0.1}\n"
     ]
    }
   ],
   "source": [
    "\"\"\"\n",
    "This is where you can test the classifier on your own custom samples!\n",
    "Enjoy experimenting with the model :D\n",
    "\n",
    "Please be aware that the performance  may be poor when\n",
    "working with a small number of samples, as it relies on\n",
    "the global statistics collected from a large dataset.\n",
    "\n",
    "\"\"\"\n",
    "\n",
    "your_samples = np.array([\n",
    "    [\"Alice\", \"Bob\", \"Donald\", \"Duda\", \"Petro\", \"Jacek\"],\n",
    "    [\"12/21/2004\"],\n",
    "    [\"Ukraine\", \"Poland\", \"China\"],\n",
    "    [\"male\", \"female\", \"male\", \"m\", \"m\", \"f\"],\n",
    "    [\"engineer\", \"doctor\", \"dentist\", \"teacher\", \"politician\", \"professor\", \"nurse\"]\n",
    "], dtype=object)\n",
    "\n",
    "for sample in your_samples:\n",
    "    preds = model.predict_proba(extract_features(sample)[0].reshape(1,-1))\n",
    "    top = top_classes(preds)\n",
    "    print(top)"
   ]
  },
  {
   "cell_type": "code",
   "execution_count": null,
   "id": "24b143b3",
   "metadata": {},
   "outputs": [],
   "source": []
  }
 ],
 "metadata": {
  "kernelspec": {
   "display_name": "Python 3 (ipykernel)",
   "language": "python",
   "name": "python3"
  },
  "language_info": {
   "codemirror_mode": {
    "name": "ipython",
    "version": 3
   },
   "file_extension": ".py",
   "mimetype": "text/x-python",
   "name": "python",
   "nbconvert_exporter": "python",
   "pygments_lexer": "ipython3",
   "version": "3.10.8"
  }
 },
 "nbformat": 4,
 "nbformat_minor": 5
}
