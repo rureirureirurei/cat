{
 "cells": [
  {
   "cell_type": "code",
   "execution_count": 1,
   "id": "bffd4382",
   "metadata": {},
   "outputs": [],
   "source": [
    "### Standart Python notebook imports\n",
    "\n",
    "import itertools\n",
    "import io\n",
    "import os\n",
    "\n",
    "import matplotlib.pyplot as plt\n",
    "import numpy as np\n",
    "import pandas as pd\n",
    "import scipy.optimize as sopt\n",
    "import scipy.stats as sstats\n",
    "import seaborn as sns\n",
    "import sklearn.ensemble\n",
    "import sklearn.tree\n",
    "from sklearn import datasets\n",
    "from tqdm.auto import tqdm\n",
    "from matplotlib import animation, pyplot, rc\n",
    "from sklearn.model_selection import train_test_split\n",
    "from regulars import regulars"
   ]
  },
  {
   "cell_type": "code",
   "execution_count": 2,
   "id": "2108148e",
   "metadata": {},
   "outputs": [],
   "source": [
    "def sources(path):\n",
    "    result = [i for i in os.listdir(path) if i.endswith(\".csv\")]\n",
    "    return result"
   ]
  },
  {
   "cell_type": "code",
   "execution_count": null,
   "id": "bc07d8b5",
   "metadata": {
    "scrolled": false
   },
   "outputs": [
    {
     "name": "stdout",
     "output_type": "stream",
     "text": [
      "\n",
      "########################################\n",
      "\n",
      "sample_submmission.csv\n",
      "3\n",
      "\n",
      "0    505701\n",
      "1    500633\n",
      "2    506945\n",
      "3    497447\n",
      "4    496446\n",
      "Name: Patient_ID, dtype: int64\n",
      "\n",
      "SKIP\n",
      "detected types id\n",
      "\n",
      "0    6548\n",
      "1    6584\n",
      "2    6582\n",
      "3    6551\n",
      "4    6533\n",
      "Name: Health_Camp_ID, dtype: int64\n",
      "\n",
      "SKIP\n",
      "detected types id\n",
      "\n",
      "0    0.5\n",
      "1    0.5\n",
      "2    0.5\n",
      "3    0.5\n",
      "4    0.5\n",
      "Name: Outcome, dtype: float64\n"
     ]
    }
   ],
   "source": [
    "path = './data/'\n",
    "path_labeled = './labels/'\n",
    "\n",
    "def is_csv(s):\n",
    "    if not isinstance(s, str):\n",
    "        return False\n",
    "    if len(s) < 5:    # ?.csv\n",
    "        return False\n",
    "    if s[-4:] != '.csv':\n",
    "        return False\n",
    "    return True\n",
    "\n",
    "for source in sources(path):\n",
    "    if not is_csv(source):\n",
    "        continue\n",
    "    \n",
    "    if os.path.exists(path_labeled + source):\n",
    "        print(\"SKIP\\nfound labels file\" + source)\n",
    "        continue\n",
    "    \n",
    "    data = pd.read_csv(path + source, encoding='utf-8')\n",
    "    labels = []\n",
    "    \n",
    "    print('\\n'+\"#\"*40+'\\n\\n'+source+'\\n'+str(data.columns.shape[0])+'\\n')\n",
    "    \n",
    "    for column in data.columns:\n",
    "        \n",
    "        batch = data[column][:100].to_numpy()\n",
    "        tags = regulars(batch, column)\n",
    "            \n",
    "        print(data[column][:5])\n",
    "        if tags:\n",
    "            print(\"\\nSKIP\\ndetected types \" + tags + \"\\n\")\n",
    "            labels.append(tags)\n",
    "            continue\n",
    "        \n",
    "        label = input()\n",
    "        \n",
    "        if label == '???':\n",
    "            labels = labels + ['?'] * (data.columns.shape[0] - len(labels))\n",
    "            break\n",
    "            \n",
    "        labels.append(label)\n",
    "        \n",
    "    print(\"Labels: \", str(labels) + '\\n\\n')\n",
    "    namepath = path_labeled + source\n",
    "    pd.DataFrame(labels).to_csv(namepath, index=False, header=False)\n",
    "\n",
    "    "
   ]
  },
  {
   "cell_type": "code",
   "execution_count": null,
   "id": "d57d9a7c",
   "metadata": {},
   "outputs": [],
   "source": []
  }
 ],
 "metadata": {
  "kernelspec": {
   "display_name": "Python 3 (ipykernel)",
   "language": "python",
   "name": "python3"
  },
  "language_info": {
   "codemirror_mode": {
    "name": "ipython",
    "version": 3
   },
   "file_extension": ".py",
   "mimetype": "text/x-python",
   "name": "python",
   "nbconvert_exporter": "python",
   "pygments_lexer": "ipython3",
   "version": "3.10.8"
  }
 },
 "nbformat": 4,
 "nbformat_minor": 5
}
